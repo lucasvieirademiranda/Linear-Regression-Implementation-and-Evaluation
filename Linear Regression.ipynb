{
 "cells": [
  {
   "cell_type": "code",
   "execution_count": 15,
   "metadata": {},
   "outputs": [],
   "source": [
    "import sys\n",
    "import io\n",
    "\n",
    "import numpy as np\n",
    "import pandas as pd\n",
    "import seaborn as sns\n",
    "import matplotlib.pyplot as plt\n",
    "\n",
    "from copy import deepcopy\n",
    "from pandas.plotting import scatter_matrix\n",
    "\n",
    "from sklearn import linear_model\n",
    "from sklearn.metrics import mean_squared_error\n",
    "from sklearn.model_selection import cross_val_score\n",
    "from sklearn.model_selection import KFold"
   ]
  },
  {
   "cell_type": "markdown",
   "metadata": {},
   "source": [
    "Read diamond data"
   ]
  },
  {
   "cell_type": "code",
   "execution_count": 16,
   "metadata": {},
   "outputs": [],
   "source": [
    "train_file_path = './diamonds-train.csv'\n",
    "test_file_path = './diamonds-test.csv'\n",
    "\n",
    "# Total Data 45849 Rows\n",
    "train_df = pd.read_csv(train_file_path)\n",
    "\n",
    "# Total Data 8091 Rows\n",
    "test_df = pd.read_csv(test_file_path)"
   ]
  },
  {
   "cell_type": "code",
   "execution_count": 17,
   "metadata": {},
   "outputs": [
    {
     "data": {
      "text/html": [
       "<div>\n",
       "<style scoped>\n",
       "    .dataframe tbody tr th:only-of-type {\n",
       "        vertical-align: middle;\n",
       "    }\n",
       "\n",
       "    .dataframe tbody tr th {\n",
       "        vertical-align: top;\n",
       "    }\n",
       "\n",
       "    .dataframe thead th {\n",
       "        text-align: right;\n",
       "    }\n",
       "</style>\n",
       "<table border=\"1\" class=\"dataframe\">\n",
       "  <thead>\n",
       "    <tr style=\"text-align: right;\">\n",
       "      <th></th>\n",
       "      <th>carat</th>\n",
       "      <th>cut</th>\n",
       "      <th>color</th>\n",
       "      <th>clarity</th>\n",
       "      <th>x</th>\n",
       "      <th>y</th>\n",
       "      <th>z</th>\n",
       "      <th>depth</th>\n",
       "      <th>table</th>\n",
       "      <th>price</th>\n",
       "    </tr>\n",
       "  </thead>\n",
       "  <tbody>\n",
       "    <tr>\n",
       "      <th>0</th>\n",
       "      <td>1.62</td>\n",
       "      <td>Ideal</td>\n",
       "      <td>I</td>\n",
       "      <td>VS2</td>\n",
       "      <td>7.53</td>\n",
       "      <td>7.58</td>\n",
       "      <td>4.69</td>\n",
       "      <td>62.1</td>\n",
       "      <td>55.0</td>\n",
       "      <td>10501</td>\n",
       "    </tr>\n",
       "    <tr>\n",
       "      <th>1</th>\n",
       "      <td>0.30</td>\n",
       "      <td>Premium</td>\n",
       "      <td>G</td>\n",
       "      <td>SI1</td>\n",
       "      <td>4.39</td>\n",
       "      <td>4.35</td>\n",
       "      <td>2.57</td>\n",
       "      <td>58.8</td>\n",
       "      <td>60.0</td>\n",
       "      <td>574</td>\n",
       "    </tr>\n",
       "    <tr>\n",
       "      <th>2</th>\n",
       "      <td>1.37</td>\n",
       "      <td>Ideal</td>\n",
       "      <td>F</td>\n",
       "      <td>VS1</td>\n",
       "      <td>7.28</td>\n",
       "      <td>7.22</td>\n",
       "      <td>4.32</td>\n",
       "      <td>59.6</td>\n",
       "      <td>57.0</td>\n",
       "      <td>11649</td>\n",
       "    </tr>\n",
       "    <tr>\n",
       "      <th>3</th>\n",
       "      <td>0.33</td>\n",
       "      <td>Fair</td>\n",
       "      <td>H</td>\n",
       "      <td>VVS2</td>\n",
       "      <td>4.40</td>\n",
       "      <td>4.32</td>\n",
       "      <td>2.84</td>\n",
       "      <td>65.1</td>\n",
       "      <td>59.0</td>\n",
       "      <td>922</td>\n",
       "    </tr>\n",
       "    <tr>\n",
       "      <th>4</th>\n",
       "      <td>0.32</td>\n",
       "      <td>Very Good</td>\n",
       "      <td>F</td>\n",
       "      <td>VS2</td>\n",
       "      <td>4.43</td>\n",
       "      <td>4.48</td>\n",
       "      <td>2.62</td>\n",
       "      <td>58.8</td>\n",
       "      <td>62.0</td>\n",
       "      <td>602</td>\n",
       "    </tr>\n",
       "    <tr>\n",
       "      <th>5</th>\n",
       "      <td>0.51</td>\n",
       "      <td>Premium</td>\n",
       "      <td>E</td>\n",
       "      <td>SI2</td>\n",
       "      <td>5.15</td>\n",
       "      <td>5.12</td>\n",
       "      <td>3.22</td>\n",
       "      <td>62.7</td>\n",
       "      <td>52.0</td>\n",
       "      <td>1205</td>\n",
       "    </tr>\n",
       "    <tr>\n",
       "      <th>6</th>\n",
       "      <td>1.50</td>\n",
       "      <td>Good</td>\n",
       "      <td>H</td>\n",
       "      <td>VS2</td>\n",
       "      <td>7.22</td>\n",
       "      <td>7.27</td>\n",
       "      <td>4.61</td>\n",
       "      <td>63.6</td>\n",
       "      <td>58.0</td>\n",
       "      <td>10291</td>\n",
       "    </tr>\n",
       "    <tr>\n",
       "      <th>7</th>\n",
       "      <td>0.85</td>\n",
       "      <td>Ideal</td>\n",
       "      <td>G</td>\n",
       "      <td>VS1</td>\n",
       "      <td>6.09</td>\n",
       "      <td>6.11</td>\n",
       "      <td>3.77</td>\n",
       "      <td>61.8</td>\n",
       "      <td>55.0</td>\n",
       "      <td>4373</td>\n",
       "    </tr>\n",
       "    <tr>\n",
       "      <th>8</th>\n",
       "      <td>0.33</td>\n",
       "      <td>Ideal</td>\n",
       "      <td>F</td>\n",
       "      <td>VS1</td>\n",
       "      <td>4.46</td>\n",
       "      <td>4.49</td>\n",
       "      <td>2.74</td>\n",
       "      <td>61.2</td>\n",
       "      <td>56.0</td>\n",
       "      <td>723</td>\n",
       "    </tr>\n",
       "    <tr>\n",
       "      <th>9</th>\n",
       "      <td>1.10</td>\n",
       "      <td>Ideal</td>\n",
       "      <td>G</td>\n",
       "      <td>VS1</td>\n",
       "      <td>6.69</td>\n",
       "      <td>6.65</td>\n",
       "      <td>4.09</td>\n",
       "      <td>61.3</td>\n",
       "      <td>54.0</td>\n",
       "      <td>6535</td>\n",
       "    </tr>\n",
       "  </tbody>\n",
       "</table>\n",
       "</div>"
      ],
      "text/plain": [
       "   carat        cut color clarity     x     y     z  depth  table  price\n",
       "0   1.62      Ideal     I     VS2  7.53  7.58  4.69   62.1   55.0  10501\n",
       "1   0.30    Premium     G     SI1  4.39  4.35  2.57   58.8   60.0    574\n",
       "2   1.37      Ideal     F     VS1  7.28  7.22  4.32   59.6   57.0  11649\n",
       "3   0.33       Fair     H    VVS2  4.40  4.32  2.84   65.1   59.0    922\n",
       "4   0.32  Very Good     F     VS2  4.43  4.48  2.62   58.8   62.0    602\n",
       "5   0.51    Premium     E     SI2  5.15  5.12  3.22   62.7   52.0   1205\n",
       "6   1.50       Good     H     VS2  7.22  7.27  4.61   63.6   58.0  10291\n",
       "7   0.85      Ideal     G     VS1  6.09  6.11  3.77   61.8   55.0   4373\n",
       "8   0.33      Ideal     F     VS1  4.46  4.49  2.74   61.2   56.0    723\n",
       "9   1.10      Ideal     G     VS1  6.69  6.65  4.09   61.3   54.0   6535"
      ]
     },
     "execution_count": 17,
     "metadata": {},
     "output_type": "execute_result"
    }
   ],
   "source": [
    "train_df.head(10)"
   ]
  },
  {
   "cell_type": "code",
   "execution_count": 18,
   "metadata": {},
   "outputs": [
    {
     "data": {
      "text/html": [
       "<div>\n",
       "<style scoped>\n",
       "    .dataframe tbody tr th:only-of-type {\n",
       "        vertical-align: middle;\n",
       "    }\n",
       "\n",
       "    .dataframe tbody tr th {\n",
       "        vertical-align: top;\n",
       "    }\n",
       "\n",
       "    .dataframe thead th {\n",
       "        text-align: right;\n",
       "    }\n",
       "</style>\n",
       "<table border=\"1\" class=\"dataframe\">\n",
       "  <thead>\n",
       "    <tr style=\"text-align: right;\">\n",
       "      <th></th>\n",
       "      <th>carat</th>\n",
       "      <th>cut</th>\n",
       "      <th>color</th>\n",
       "      <th>clarity</th>\n",
       "      <th>x</th>\n",
       "      <th>y</th>\n",
       "      <th>z</th>\n",
       "      <th>depth</th>\n",
       "      <th>table</th>\n",
       "      <th>price</th>\n",
       "    </tr>\n",
       "  </thead>\n",
       "  <tbody>\n",
       "    <tr>\n",
       "      <th>0</th>\n",
       "      <td>0.55</td>\n",
       "      <td>Ideal</td>\n",
       "      <td>E</td>\n",
       "      <td>VS1</td>\n",
       "      <td>5.26</td>\n",
       "      <td>5.29</td>\n",
       "      <td>3.24</td>\n",
       "      <td>61.5</td>\n",
       "      <td>56.0</td>\n",
       "      <td>2220</td>\n",
       "    </tr>\n",
       "    <tr>\n",
       "      <th>1</th>\n",
       "      <td>1.21</td>\n",
       "      <td>Fair</td>\n",
       "      <td>H</td>\n",
       "      <td>VS2</td>\n",
       "      <td>6.70</td>\n",
       "      <td>6.66</td>\n",
       "      <td>4.31</td>\n",
       "      <td>64.5</td>\n",
       "      <td>56.0</td>\n",
       "      <td>5041</td>\n",
       "    </tr>\n",
       "    <tr>\n",
       "      <th>2</th>\n",
       "      <td>1.24</td>\n",
       "      <td>Premium</td>\n",
       "      <td>G</td>\n",
       "      <td>SI1</td>\n",
       "      <td>7.08</td>\n",
       "      <td>6.98</td>\n",
       "      <td>4.14</td>\n",
       "      <td>58.9</td>\n",
       "      <td>58.0</td>\n",
       "      <td>6145</td>\n",
       "    </tr>\n",
       "    <tr>\n",
       "      <th>3</th>\n",
       "      <td>1.21</td>\n",
       "      <td>Fair</td>\n",
       "      <td>G</td>\n",
       "      <td>SI1</td>\n",
       "      <td>6.69</td>\n",
       "      <td>6.62</td>\n",
       "      <td>4.29</td>\n",
       "      <td>64.5</td>\n",
       "      <td>56.0</td>\n",
       "      <td>4637</td>\n",
       "    </tr>\n",
       "    <tr>\n",
       "      <th>4</th>\n",
       "      <td>0.76</td>\n",
       "      <td>Good</td>\n",
       "      <td>I</td>\n",
       "      <td>SI1</td>\n",
       "      <td>5.69</td>\n",
       "      <td>5.64</td>\n",
       "      <td>3.64</td>\n",
       "      <td>64.3</td>\n",
       "      <td>60.0</td>\n",
       "      <td>2326</td>\n",
       "    </tr>\n",
       "    <tr>\n",
       "      <th>5</th>\n",
       "      <td>0.51</td>\n",
       "      <td>Good</td>\n",
       "      <td>E</td>\n",
       "      <td>VS2</td>\n",
       "      <td>5.08</td>\n",
       "      <td>5.05</td>\n",
       "      <td>3.23</td>\n",
       "      <td>63.8</td>\n",
       "      <td>55.0</td>\n",
       "      <td>1662</td>\n",
       "    </tr>\n",
       "    <tr>\n",
       "      <th>6</th>\n",
       "      <td>1.22</td>\n",
       "      <td>Ideal</td>\n",
       "      <td>G</td>\n",
       "      <td>VS1</td>\n",
       "      <td>6.82</td>\n",
       "      <td>6.77</td>\n",
       "      <td>4.25</td>\n",
       "      <td>62.5</td>\n",
       "      <td>57.0</td>\n",
       "      <td>8608</td>\n",
       "    </tr>\n",
       "    <tr>\n",
       "      <th>7</th>\n",
       "      <td>0.41</td>\n",
       "      <td>Good</td>\n",
       "      <td>I</td>\n",
       "      <td>VVS2</td>\n",
       "      <td>4.71</td>\n",
       "      <td>4.74</td>\n",
       "      <td>3.02</td>\n",
       "      <td>63.9</td>\n",
       "      <td>55.0</td>\n",
       "      <td>827</td>\n",
       "    </tr>\n",
       "    <tr>\n",
       "      <th>8</th>\n",
       "      <td>1.51</td>\n",
       "      <td>Very Good</td>\n",
       "      <td>E</td>\n",
       "      <td>VS2</td>\n",
       "      <td>7.30</td>\n",
       "      <td>7.36</td>\n",
       "      <td>4.46</td>\n",
       "      <td>60.8</td>\n",
       "      <td>60.0</td>\n",
       "      <td>14338</td>\n",
       "    </tr>\n",
       "    <tr>\n",
       "      <th>9</th>\n",
       "      <td>0.31</td>\n",
       "      <td>Premium</td>\n",
       "      <td>F</td>\n",
       "      <td>VVS1</td>\n",
       "      <td>4.41</td>\n",
       "      <td>4.45</td>\n",
       "      <td>2.63</td>\n",
       "      <td>59.4</td>\n",
       "      <td>58.0</td>\n",
       "      <td>766</td>\n",
       "    </tr>\n",
       "  </tbody>\n",
       "</table>\n",
       "</div>"
      ],
      "text/plain": [
       "   carat        cut color clarity     x     y     z  depth  table  price\n",
       "0   0.55      Ideal     E     VS1  5.26  5.29  3.24   61.5   56.0   2220\n",
       "1   1.21       Fair     H     VS2  6.70  6.66  4.31   64.5   56.0   5041\n",
       "2   1.24    Premium     G     SI1  7.08  6.98  4.14   58.9   58.0   6145\n",
       "3   1.21       Fair     G     SI1  6.69  6.62  4.29   64.5   56.0   4637\n",
       "4   0.76       Good     I     SI1  5.69  5.64  3.64   64.3   60.0   2326\n",
       "5   0.51       Good     E     VS2  5.08  5.05  3.23   63.8   55.0   1662\n",
       "6   1.22      Ideal     G     VS1  6.82  6.77  4.25   62.5   57.0   8608\n",
       "7   0.41       Good     I    VVS2  4.71  4.74  3.02   63.9   55.0    827\n",
       "8   1.51  Very Good     E     VS2  7.30  7.36  4.46   60.8   60.0  14338\n",
       "9   0.31    Premium     F    VVS1  4.41  4.45  2.63   59.4   58.0    766"
      ]
     },
     "execution_count": 18,
     "metadata": {},
     "output_type": "execute_result"
    }
   ],
   "source": [
    "test_df.head(10)"
   ]
  },
  {
   "cell_type": "code",
   "execution_count": 19,
   "metadata": {},
   "outputs": [
    {
     "name": "stdout",
     "output_type": "stream",
     "text": [
      "<class 'pandas.core.frame.DataFrame'>\n",
      "RangeIndex: 45849 entries, 0 to 45848\n",
      "Data columns (total 10 columns):\n",
      "carat      45849 non-null float64\n",
      "cut        45849 non-null object\n",
      "color      45849 non-null object\n",
      "clarity    45849 non-null object\n",
      "x          45849 non-null float64\n",
      "y          45849 non-null float64\n",
      "z          45849 non-null float64\n",
      "depth      45849 non-null float64\n",
      "table      45849 non-null float64\n",
      "price      45849 non-null int64\n",
      "dtypes: float64(6), int64(1), object(3)\n",
      "memory usage: 3.5+ MB\n"
     ]
    }
   ],
   "source": [
    "train_df.info()"
   ]
  },
  {
   "cell_type": "code",
   "execution_count": 20,
   "metadata": {},
   "outputs": [
    {
     "name": "stdout",
     "output_type": "stream",
     "text": [
      "<class 'pandas.core.frame.DataFrame'>\n",
      "RangeIndex: 8091 entries, 0 to 8090\n",
      "Data columns (total 10 columns):\n",
      "carat      8091 non-null float64\n",
      "cut        8091 non-null object\n",
      "color      8091 non-null object\n",
      "clarity    8091 non-null object\n",
      "x          8091 non-null float64\n",
      "y          8091 non-null float64\n",
      "z          8091 non-null float64\n",
      "depth      8091 non-null float64\n",
      "table      8091 non-null float64\n",
      "price      8091 non-null int64\n",
      "dtypes: float64(6), int64(1), object(3)\n",
      "memory usage: 632.2+ KB\n"
     ]
    }
   ],
   "source": [
    "test_df.info()"
   ]
  },
  {
   "cell_type": "code",
   "execution_count": 21,
   "metadata": {
    "scrolled": true
   },
   "outputs": [
    {
     "data": {
      "text/html": [
       "<div>\n",
       "<style scoped>\n",
       "    .dataframe tbody tr th:only-of-type {\n",
       "        vertical-align: middle;\n",
       "    }\n",
       "\n",
       "    .dataframe tbody tr th {\n",
       "        vertical-align: top;\n",
       "    }\n",
       "\n",
       "    .dataframe thead th {\n",
       "        text-align: right;\n",
       "    }\n",
       "</style>\n",
       "<table border=\"1\" class=\"dataframe\">\n",
       "  <thead>\n",
       "    <tr style=\"text-align: right;\">\n",
       "      <th></th>\n",
       "      <th>carat</th>\n",
       "      <th>x</th>\n",
       "      <th>y</th>\n",
       "      <th>z</th>\n",
       "      <th>depth</th>\n",
       "      <th>table</th>\n",
       "      <th>price</th>\n",
       "    </tr>\n",
       "  </thead>\n",
       "  <tbody>\n",
       "    <tr>\n",
       "      <th>count</th>\n",
       "      <td>45849.000000</td>\n",
       "      <td>45849.000000</td>\n",
       "      <td>45849.000000</td>\n",
       "      <td>45849.000000</td>\n",
       "      <td>45849.000000</td>\n",
       "      <td>45849.000000</td>\n",
       "      <td>45849.000000</td>\n",
       "    </tr>\n",
       "    <tr>\n",
       "      <th>mean</th>\n",
       "      <td>0.797698</td>\n",
       "      <td>5.731171</td>\n",
       "      <td>5.734044</td>\n",
       "      <td>3.537613</td>\n",
       "      <td>61.744716</td>\n",
       "      <td>57.455582</td>\n",
       "      <td>3932.515562</td>\n",
       "    </tr>\n",
       "    <tr>\n",
       "      <th>std</th>\n",
       "      <td>0.473863</td>\n",
       "      <td>1.121454</td>\n",
       "      <td>1.140275</td>\n",
       "      <td>0.694809</td>\n",
       "      <td>1.428341</td>\n",
       "      <td>2.237592</td>\n",
       "      <td>3990.380545</td>\n",
       "    </tr>\n",
       "    <tr>\n",
       "      <th>min</th>\n",
       "      <td>0.200000</td>\n",
       "      <td>0.000000</td>\n",
       "      <td>0.000000</td>\n",
       "      <td>0.000000</td>\n",
       "      <td>43.000000</td>\n",
       "      <td>43.000000</td>\n",
       "      <td>326.000000</td>\n",
       "    </tr>\n",
       "    <tr>\n",
       "      <th>25%</th>\n",
       "      <td>0.400000</td>\n",
       "      <td>4.710000</td>\n",
       "      <td>4.720000</td>\n",
       "      <td>2.910000</td>\n",
       "      <td>61.000000</td>\n",
       "      <td>56.000000</td>\n",
       "      <td>950.000000</td>\n",
       "    </tr>\n",
       "    <tr>\n",
       "      <th>50%</th>\n",
       "      <td>0.700000</td>\n",
       "      <td>5.700000</td>\n",
       "      <td>5.710000</td>\n",
       "      <td>3.520000</td>\n",
       "      <td>61.800000</td>\n",
       "      <td>57.000000</td>\n",
       "      <td>2401.000000</td>\n",
       "    </tr>\n",
       "    <tr>\n",
       "      <th>75%</th>\n",
       "      <td>1.040000</td>\n",
       "      <td>6.540000</td>\n",
       "      <td>6.540000</td>\n",
       "      <td>4.030000</td>\n",
       "      <td>62.500000</td>\n",
       "      <td>59.000000</td>\n",
       "      <td>5322.000000</td>\n",
       "    </tr>\n",
       "    <tr>\n",
       "      <th>max</th>\n",
       "      <td>5.010000</td>\n",
       "      <td>10.740000</td>\n",
       "      <td>58.900000</td>\n",
       "      <td>8.060000</td>\n",
       "      <td>78.200000</td>\n",
       "      <td>95.000000</td>\n",
       "      <td>18823.000000</td>\n",
       "    </tr>\n",
       "  </tbody>\n",
       "</table>\n",
       "</div>"
      ],
      "text/plain": [
       "              carat             x             y             z         depth  \\\n",
       "count  45849.000000  45849.000000  45849.000000  45849.000000  45849.000000   \n",
       "mean       0.797698      5.731171      5.734044      3.537613     61.744716   \n",
       "std        0.473863      1.121454      1.140275      0.694809      1.428341   \n",
       "min        0.200000      0.000000      0.000000      0.000000     43.000000   \n",
       "25%        0.400000      4.710000      4.720000      2.910000     61.000000   \n",
       "50%        0.700000      5.700000      5.710000      3.520000     61.800000   \n",
       "75%        1.040000      6.540000      6.540000      4.030000     62.500000   \n",
       "max        5.010000     10.740000     58.900000      8.060000     78.200000   \n",
       "\n",
       "              table         price  \n",
       "count  45849.000000  45849.000000  \n",
       "mean      57.455582   3932.515562  \n",
       "std        2.237592   3990.380545  \n",
       "min       43.000000    326.000000  \n",
       "25%       56.000000    950.000000  \n",
       "50%       57.000000   2401.000000  \n",
       "75%       59.000000   5322.000000  \n",
       "max       95.000000  18823.000000  "
      ]
     },
     "execution_count": 21,
     "metadata": {},
     "output_type": "execute_result"
    }
   ],
   "source": [
    "train_df.describe()"
   ]
  },
  {
   "cell_type": "code",
   "execution_count": 22,
   "metadata": {},
   "outputs": [
    {
     "data": {
      "text/html": [
       "<div>\n",
       "<style scoped>\n",
       "    .dataframe tbody tr th:only-of-type {\n",
       "        vertical-align: middle;\n",
       "    }\n",
       "\n",
       "    .dataframe tbody tr th {\n",
       "        vertical-align: top;\n",
       "    }\n",
       "\n",
       "    .dataframe thead th {\n",
       "        text-align: right;\n",
       "    }\n",
       "</style>\n",
       "<table border=\"1\" class=\"dataframe\">\n",
       "  <thead>\n",
       "    <tr style=\"text-align: right;\">\n",
       "      <th></th>\n",
       "      <th>carat</th>\n",
       "      <th>x</th>\n",
       "      <th>y</th>\n",
       "      <th>z</th>\n",
       "      <th>depth</th>\n",
       "      <th>table</th>\n",
       "      <th>price</th>\n",
       "    </tr>\n",
       "  </thead>\n",
       "  <tbody>\n",
       "    <tr>\n",
       "      <th>count</th>\n",
       "      <td>8091.000000</td>\n",
       "      <td>8091.000000</td>\n",
       "      <td>8091.000000</td>\n",
       "      <td>8091.000000</td>\n",
       "      <td>8091.000000</td>\n",
       "      <td>8091.000000</td>\n",
       "      <td>8091.000000</td>\n",
       "    </tr>\n",
       "    <tr>\n",
       "      <th>mean</th>\n",
       "      <td>0.799310</td>\n",
       "      <td>5.731080</td>\n",
       "      <td>5.737259</td>\n",
       "      <td>3.545082</td>\n",
       "      <td>61.775973</td>\n",
       "      <td>57.466259</td>\n",
       "      <td>3934.409962</td>\n",
       "    </tr>\n",
       "    <tr>\n",
       "      <th>std</th>\n",
       "      <td>0.474875</td>\n",
       "      <td>1.123568</td>\n",
       "      <td>1.152686</td>\n",
       "      <td>0.764501</td>\n",
       "      <td>1.456444</td>\n",
       "      <td>2.216951</td>\n",
       "      <td>3984.350268</td>\n",
       "    </tr>\n",
       "    <tr>\n",
       "      <th>min</th>\n",
       "      <td>0.200000</td>\n",
       "      <td>0.000000</td>\n",
       "      <td>0.000000</td>\n",
       "      <td>0.000000</td>\n",
       "      <td>43.000000</td>\n",
       "      <td>50.100000</td>\n",
       "      <td>326.000000</td>\n",
       "    </tr>\n",
       "    <tr>\n",
       "      <th>25%</th>\n",
       "      <td>0.400000</td>\n",
       "      <td>4.710000</td>\n",
       "      <td>4.720000</td>\n",
       "      <td>2.910000</td>\n",
       "      <td>61.100000</td>\n",
       "      <td>56.000000</td>\n",
       "      <td>949.500000</td>\n",
       "    </tr>\n",
       "    <tr>\n",
       "      <th>50%</th>\n",
       "      <td>0.700000</td>\n",
       "      <td>5.700000</td>\n",
       "      <td>5.710000</td>\n",
       "      <td>3.530000</td>\n",
       "      <td>61.800000</td>\n",
       "      <td>57.000000</td>\n",
       "      <td>2410.000000</td>\n",
       "    </tr>\n",
       "    <tr>\n",
       "      <th>75%</th>\n",
       "      <td>1.040000</td>\n",
       "      <td>6.540000</td>\n",
       "      <td>6.540000</td>\n",
       "      <td>4.040000</td>\n",
       "      <td>62.500000</td>\n",
       "      <td>59.000000</td>\n",
       "      <td>5346.000000</td>\n",
       "    </tr>\n",
       "    <tr>\n",
       "      <th>max</th>\n",
       "      <td>4.010000</td>\n",
       "      <td>10.140000</td>\n",
       "      <td>31.800000</td>\n",
       "      <td>31.800000</td>\n",
       "      <td>79.000000</td>\n",
       "      <td>73.000000</td>\n",
       "      <td>18803.000000</td>\n",
       "    </tr>\n",
       "  </tbody>\n",
       "</table>\n",
       "</div>"
      ],
      "text/plain": [
       "             carat            x            y            z        depth  \\\n",
       "count  8091.000000  8091.000000  8091.000000  8091.000000  8091.000000   \n",
       "mean      0.799310     5.731080     5.737259     3.545082    61.775973   \n",
       "std       0.474875     1.123568     1.152686     0.764501     1.456444   \n",
       "min       0.200000     0.000000     0.000000     0.000000    43.000000   \n",
       "25%       0.400000     4.710000     4.720000     2.910000    61.100000   \n",
       "50%       0.700000     5.700000     5.710000     3.530000    61.800000   \n",
       "75%       1.040000     6.540000     6.540000     4.040000    62.500000   \n",
       "max       4.010000    10.140000    31.800000    31.800000    79.000000   \n",
       "\n",
       "             table         price  \n",
       "count  8091.000000   8091.000000  \n",
       "mean     57.466259   3934.409962  \n",
       "std       2.216951   3984.350268  \n",
       "min      50.100000    326.000000  \n",
       "25%      56.000000    949.500000  \n",
       "50%      57.000000   2410.000000  \n",
       "75%      59.000000   5346.000000  \n",
       "max      73.000000  18803.000000  "
      ]
     },
     "execution_count": 22,
     "metadata": {},
     "output_type": "execute_result"
    }
   ],
   "source": [
    "test_df.describe()"
   ]
  },
  {
   "cell_type": "markdown",
   "metadata": {},
   "source": [
    "Cleaning Data"
   ]
  },
  {
   "cell_type": "code",
   "execution_count": 23,
   "metadata": {},
   "outputs": [],
   "source": [
    "# Remove record where x or y or z are equal 0 - IN TRAINING SET\n",
    "\n",
    "train_df = train_df.drop(train_df[train_df.x == 0].index)\n",
    "train_df = train_df.drop(train_df[train_df.y == 0].index)\n",
    "train_df = train_df.drop(train_df[train_df.z == 0].index)"
   ]
  },
  {
   "cell_type": "code",
   "execution_count": 24,
   "metadata": {},
   "outputs": [],
   "source": [
    "# Remove record where x or y or z are equal 0 - IN TEST SET\n",
    "\n",
    "#test_df = test_df.drop(test_df[test_df.x == 0].index)\n",
    "#test_df = test_df.drop(test_df[test_df.y == 0].index)\n",
    "#test_df = test_df.drop(test_df[test_df.z == 0].index)"
   ]
  },
  {
   "cell_type": "markdown",
   "metadata": {},
   "source": [
    "Calculating Correlations"
   ]
  },
  {
   "cell_type": "code",
   "execution_count": 25,
   "metadata": {},
   "outputs": [
    {
     "data": {
      "text/plain": [
       "<matplotlib.axes._subplots.AxesSubplot at 0x23a4accbb38>"
      ]
     },
     "execution_count": 25,
     "metadata": {},
     "output_type": "execute_result"
    },
    {
     "data": {
      "image/png": "[encoded data removed]",
      "text/plain": [
       "<Figure size 432x288 with 2 Axes>"
      ]
     },
     "metadata": {},
     "output_type": "display_data"
    }
   ],
   "source": [
    "correlation = train_df.corr()\n",
    "sns.heatmap(data = correlation, square = True , annot = True, cbar = True)"
   ]
  },
  {
   "cell_type": "code",
   "execution_count": 26,
   "metadata": {},
   "outputs": [
    {
     "data": {
      "text/plain": [
       "<matplotlib.axes._subplots.AxesSubplot at 0x23a4accecc0>"
      ]
     },
     "execution_count": 26,
     "metadata": {},
     "output_type": "execute_result"
    },
    {
     "data": {
      "image/png": "[encoded data removed]",
      "text/plain": [
       "<Figure size 432x288 with 2 Axes>"
      ]
     },
     "metadata": {},
     "output_type": "display_data"
    }
   ],
   "source": [
    "correlation = test_df.corr()\n",
    "sns.heatmap(data = correlation, square = True , annot = True, cbar = True)"
   ]
  },
  {
   "cell_type": "markdown",
   "metadata": {},
   "source": [
    "Label Encoding"
   ]
  },
  {
   "cell_type": "code",
   "execution_count": 27,
   "metadata": {},
   "outputs": [],
   "source": [
    "diamond_cut = {'Fair': 0,\n",
    "               'Good': 1,\n",
    "               'Very Good': 2, \n",
    "               'Premium': 3,\n",
    "               'Ideal': 4}\n",
    "\n",
    "diamond_color = {'J': 0,\n",
    "                 'I': 1, \n",
    "                 'H': 2,\n",
    "                 'G': 3,\n",
    "                 'F': 4,\n",
    "                 'E': 5,\n",
    "                 'D': 6}\n",
    "\n",
    "diamond_clarity = {'I1': 0,\n",
    "                   'SI2': 1,\n",
    "                   'SI1': 2,\n",
    "                   'VS2': 3,\n",
    "                   'VS1': 4,\n",
    "                   'VVS2': 5,\n",
    "                   'VVS1': 6,\n",
    "                   'IF': 7}"
   ]
  },
  {
   "cell_type": "code",
   "execution_count": 28,
   "metadata": {},
   "outputs": [],
   "source": [
    "#train_df.cut = train_df.cut.map(diamond_cut);\n",
    "#train_df.clarity = train_df.clarity.map(diamond_clarity);\n",
    "#train_df.color = train_df.color.map(diamond_color);"
   ]
  },
  {
   "cell_type": "code",
   "execution_count": 29,
   "metadata": {},
   "outputs": [],
   "source": [
    "#test_df.cut = test_df.cut.map(diamond_cut);\n",
    "#test_df.clarity = test_df.clarity.map(diamond_clarity);\n",
    "#test_df.color = test_df.color.map(diamond_color);"
   ]
  },
  {
   "cell_type": "markdown",
   "metadata": {},
   "source": [
    "One-Hot Encoding"
   ]
  },
  {
   "cell_type": "code",
   "execution_count": 30,
   "metadata": {},
   "outputs": [],
   "source": [
    "columns = ['cut','color','clarity']"
   ]
  },
  {
   "cell_type": "code",
   "execution_count": 31,
   "metadata": {},
   "outputs": [],
   "source": [
    "train_df = pd.get_dummies(train_df, columns = columns, prefix = columns)"
   ]
  },
  {
   "cell_type": "code",
   "execution_count": 32,
   "metadata": {},
   "outputs": [],
   "source": [
    "test_df = pd.get_dummies(test_df, columns = columns, prefix = columns)"
   ]
  },
  {
   "cell_type": "markdown",
   "metadata": {},
   "source": [
    "Split Features and Targets"
   ]
  },
  {
   "cell_type": "code",
   "execution_count": 33,
   "metadata": {},
   "outputs": [],
   "source": [
    "train_features_df = train_df.drop(labels=['price', 'depth', 'table'], axis = 1)\n",
    "train_targets_df = train_df.price"
   ]
  },
  {
   "cell_type": "code",
   "execution_count": 34,
   "metadata": {},
   "outputs": [],
   "source": [
    "test_features_df = test_df.drop(labels=['price', 'depth', 'table'], axis = 1)\n",
    "test_targets_df = test_df.price"
   ]
  },
  {
   "cell_type": "markdown",
   "metadata": {},
   "source": [
    "Split data in training set and validation set"
   ]
  },
  {
   "cell_type": "code",
   "execution_count": 35,
   "metadata": {},
   "outputs": [],
   "source": [
    "train_cross_features = train_features_df.values\n",
    "train_cross_targets = train_targets_df.values \n",
    "\n",
    "training_set_size = 0.8 # (0 to 1)\n",
    "\n",
    "training_size = round(train_features_df.shape[0] * training_set_size)\n",
    "\n",
    "training_X = train_features_df.values[:training_size]\n",
    "validation_X = train_features_df.values[training_size:]\n",
    "\n",
    "training_Y = train_targets_df.values[:training_size]\n",
    "validation_Y = train_targets_df.values[training_size:]"
   ]
  },
  {
   "cell_type": "code",
   "execution_count": 36,
   "metadata": {},
   "outputs": [],
   "source": [
    "test_X = test_features_df.values\n",
    "test_Y = test_targets_df.values"
   ]
  },
  {
   "cell_type": "markdown",
   "metadata": {},
   "source": [
    "Feature Normalization"
   ]
  },
  {
   "cell_type": "code",
   "execution_count": 37,
   "metadata": {},
   "outputs": [],
   "source": [
    "# Min-Max Normalization\n",
    "\n",
    "cross_minimum = np.min(train_cross_features, axis = 0)\n",
    "cross_maximum = np.max(train_cross_features, axis = 0)\n",
    "\n",
    "train_cross_features = (train_cross_features - cross_minimum) / (cross_maximum - cross_minimum)\n",
    "\n",
    "minimum = np.min(training_X, axis = 0)\n",
    "maximum = np.max(training_X, axis = 0)\n",
    "\n",
    "training_X = (training_X - minimum) / (maximum - minimum)\n",
    "validation_X = (validation_X - minimum) / (maximum - minimum)\n",
    "\n",
    "test_X = (test_X - minimum) / (maximum - minimum)\n",
    "\n",
    "# Mean Normalization - It's possible to change (max - min) in denominator for standard deviation \n",
    "\n",
    "#mean = np.mean(training_X, axis = 0)\n",
    "#minimum = np.min(training_X, axis = 0)\n",
    "#maximum = np.max(training_X, axis = 0)\n",
    "\n",
    "#training_X = (training_X - mean) / (maximum - minimum)\n",
    "#validation_X = (validation_X - mean) / (maximum - minimum)"
   ]
  },
  {
   "cell_type": "code",
   "execution_count": 38,
   "metadata": {},
   "outputs": [
    {
     "data": {
      "image/png": "[encoded data removed]",
      "text/plain": [
       "<Figure size 432x288 with 1 Axes>"
      ]
     },
     "metadata": {},
     "output_type": "display_data"
    },
    {
     "name": "stdout",
     "output_type": "stream",
     "text": [
      "Best Validation Epoch: [28, 1325527.4996043157]\n"
     ]
    }
   ],
   "source": [
    "total_epoch = 100\n",
    "\n",
    "training_epochs = []\n",
    "validation_epochs = []\n",
    "\n",
    "regressor = linear_model.SGDRegressor(loss = \"squared_loss\",\n",
    "                                      shuffle = False,\n",
    "                                      max_iter = 100, \n",
    "                                      fit_intercept = True,\n",
    "                                      learning_rate = \"constant\",\n",
    "                                      penalty = None,\n",
    "                                      eta0 = 0.01)\n",
    "\n",
    "select = float('inf')\n",
    "\n",
    "best_epoch = None\n",
    "best_model = None\n",
    "\n",
    "for epoch in range(total_epoch):\n",
    "    \n",
    "    regressor.partial_fit(training_X, training_Y)\n",
    "    \n",
    "    training_prediction_Y = regressor.predict(training_X)\n",
    "    training_mse = mean_squared_error(training_Y, training_prediction_Y)\n",
    "    \n",
    "    training_epochs.append([epoch, training_mse])\n",
    "    \n",
    "    validation_prediction_Y = regressor.predict(validation_X)\n",
    "    validation_mse = mean_squared_error(validation_Y, validation_prediction_Y)\n",
    "    \n",
    "    validation_epochs.append([epoch, validation_mse])\n",
    "    \n",
    "    if (validation_mse < select):\n",
    "        \n",
    "        select = validation_mse\n",
    "        best_epoch = [epoch, validation_mse]\n",
    "        best_model = deepcopy(regressor)\n",
    "    \n",
    "training_df = pd.DataFrame(data = training_epochs, columns = ['Epoch', 'Cost'])\n",
    "validation_df = pd.DataFrame(data = validation_epochs, columns = ['Epoch', 'Cost'])\n",
    "\n",
    "plt.plot(training_df['Epoch'], training_df['Cost'], linewidth = 1.0, color = 'red')\n",
    "plt.plot(validation_df['Epoch'], validation_df['Cost'], linewidth = 1.0, color = 'blue')\n",
    "\n",
    "plt.xlabel('Epochs')\n",
    "plt.ylabel('Cost')\n",
    "\n",
    "plt.title(\"Cost x Epochs\")\n",
    "plt.legend(['Cost Training', 'Cost Validation'])\n",
    "\n",
    "plt.show()\n",
    "\n",
    "print(\"Best Validation Epoch: \" + str(best_epoch))"
   ]
  },
  {
   "cell_type": "code",
   "execution_count": 39,
   "metadata": {},
   "outputs": [
    {
     "name": "stdout",
     "output_type": "stream",
     "text": [
      "Cross Validation Accuracies (Training):  [0.91823466 0.91882827 0.91946486 0.91667034 0.91824106]\n",
      "Cross Validation Mean (Training):  0.9182878373516378\n",
      "Mean Squared Error (Validation): 1325527.50\n",
      "Linear Regression Accuracy (Validation):  0.918002632515262\n"
     ]
    }
   ],
   "source": [
    "prediction_Y = best_model.predict(validation_X)\n",
    "\n",
    "accuracies = cross_val_score(estimator = best_model, X = train_cross_features, y = train_cross_targets, cv = 5)\n",
    "\n",
    "#print('Coefficients: \\n', best_model.coef_)\n",
    "#print('Intercept: \\n', best_model.intercept_)\n",
    "print(\"Cross Validation Accuracies (Training): \", accuracies)\n",
    "print(\"Cross Validation Mean (Training): \", accuracies.mean())\n",
    "\n",
    "print(\"Mean Squared Error (Validation): %.2f\" % mean_squared_error(validation_Y, prediction_Y))\n",
    "print('Linear Regression Accuracy (Validation): ', best_model.score(validation_X, validation_Y))"
   ]
  },
  {
   "cell_type": "code",
   "execution_count": 40,
   "metadata": {},
   "outputs": [
    {
     "name": "stdout",
     "output_type": "stream",
     "text": [
      "Mean Squared Error (Test): 1317457.14\n",
      "Linear Regression Accuracy (Test):  0.9170005619046967\n"
     ]
    }
   ],
   "source": [
    "test_prediction_Y = best_model.predict(test_X)\n",
    "print(\"Mean Squared Error (Test): %.2f\" % mean_squared_error(test_Y, test_prediction_Y))\n",
    "print('Linear Regression Accuracy (Test): ', best_model.score(test_X, test_Y))"
   ]
  },
  {
   "cell_type": "code",
   "execution_count": 41,
   "metadata": {},
   "outputs": [],
   "source": [
    "class SGDRegressor:\n",
    "    \n",
    "    def __init__(self, max_iter = 1000, fit_intercept = False, eta0 = 0.01):\n",
    "        \n",
    "        self.max_iter = max_iter\n",
    "        self.fit_intercept = fit_intercept\n",
    "        self.eta0 = eta0\n",
    "        \n",
    "        self.coef_ = np.array([]) \n",
    "        self.intercept_ = np.array([0])\n",
    "        \n",
    "    def fit(self, X, y):\n",
    "        \n",
    "        self.intercept_ = np.zeros(1)\n",
    "        self.coef_ = np.zeros(X.shape[1])\n",
    "            \n",
    "        for iteration in range(self.max_iter):\n",
    "            \n",
    "            for inputs, target in zip(X, y):\n",
    "\n",
    "                if (self.fit_intercept):\n",
    "\n",
    "                    output = np.dot(self.coef_, inputs) + self.intercept_\n",
    "\n",
    "                    self.intercept_ = self.intercept_ - (self.eta0 * (output - target))\n",
    "                    self.coef_ = self.coef_ - (self.eta0 * (output - target) * inputs)\n",
    "\n",
    "                else:\n",
    "\n",
    "                    outputs = np.dot(self.coef_, inputs) + self.intercept_\n",
    "\n",
    "                    self.coef_ = self.coef_ - (self.eta0 * (outputs - targets) * inputs)\n",
    "    \n",
    "    \n",
    "    def partial_fit(self, X, y):\n",
    "        \n",
    "        if (not self.intercept_.any()):\n",
    "            self.intercept_ = np.zeros(1)\n",
    "        \n",
    "        if (not self.coef_.any()):\n",
    "            self.coef_ = np.zeros(X.shape[1])\n",
    "                \n",
    "        for inputs, target in zip(X, y):\n",
    "            \n",
    "            if (self.fit_intercept):\n",
    "            \n",
    "                output = np.dot(self.coef_, inputs) + self.intercept_\n",
    "                \n",
    "                self.intercept_ = self.intercept_ - (self.eta0 * (output - target))\n",
    "                \n",
    "                self.coef_ = self.coef_ - (self.eta0 * (output - target) * inputs)\n",
    "                \n",
    "            else:\n",
    "                \n",
    "                output = np.dot(self.coef_, inputs) + self.intercept_\n",
    "                \n",
    "                self.coef_ = self.coef_ - (self.eta0 * (output - target) * inputs)\n",
    "    \n",
    "                \n",
    "    def predict(self, X):\n",
    "        \n",
    "        outputs = np.array([])\n",
    "        \n",
    "        for inputs in X:\n",
    "            \n",
    "            output = 0\n",
    "            \n",
    "            if (self.fit_intercept):\n",
    "                \n",
    "                output = np.dot(self.coef_, inputs) + self.intercept_\n",
    "                \n",
    "            else:\n",
    "                \n",
    "                output = np.dot(self.coef_, inputs)\n",
    "            \n",
    "            outputs = np.append(outputs, [output])\n",
    "        \n",
    "        return outputs\n",
    "    \n",
    "    def score(self, X, y):\n",
    "        \n",
    "        predicted_y = self.predict(X)\n",
    "        \n",
    "        u = ((y - predicted_y) ** 2).sum() \n",
    "        v = ((y - y.mean()) ** 2).sum()\n",
    "        \n",
    "        return (1 - u/v)\n",
    "    \n",
    "    def get_params(self, deep = True):\n",
    "        \n",
    "        dictionary = {\n",
    "            'eta0': self.eta0,\n",
    "            'fit_intercept': self.fit_intercept,\n",
    "            'max_iter': self.max_iter,\n",
    "        }\n",
    "        \n",
    "        return dictionary"
   ]
  },
  {
   "cell_type": "code",
   "execution_count": 42,
   "metadata": {},
   "outputs": [
    {
     "data": {
      "image/png": "[encoded data removed]",
      "text/plain": [
       "<Figure size 432x288 with 1 Axes>"
      ]
     },
     "metadata": {},
     "output_type": "display_data"
    },
    {
     "name": "stdout",
     "output_type": "stream",
     "text": [
      "Best Validation Epoch: [28, 1325527.4996043157]\n"
     ]
    }
   ],
   "source": [
    "total_epoch = 100\n",
    "\n",
    "training_epochs = []\n",
    "validation_epochs = []\n",
    "\n",
    "regressor = SGDRegressor(max_iter = 100, \n",
    "                         fit_intercept = True, \n",
    "                         eta0 = 0.01)\n",
    "\n",
    "select = float('inf')\n",
    "\n",
    "best_epoch = None\n",
    "best_model = None\n",
    "\n",
    "for epoch in range(total_epoch):\n",
    "    \n",
    "    regressor.partial_fit(training_X, training_Y)\n",
    "    \n",
    "    training_prediction_Y = regressor.predict(training_X)\n",
    "    training_mse = mean_squared_error(training_Y, training_prediction_Y)\n",
    "    \n",
    "    training_epochs.append([epoch, training_mse])\n",
    "    \n",
    "    validation_prediction_Y = regressor.predict(validation_X)\n",
    "    validation_mse = mean_squared_error(validation_Y, validation_prediction_Y)\n",
    "    \n",
    "    validation_epochs.append([epoch, validation_mse])\n",
    "    \n",
    "    if (validation_mse < select):\n",
    "        \n",
    "        select = validation_mse\n",
    "        best_epoch = [epoch, validation_mse]\n",
    "        best_model = deepcopy(regressor)\n",
    "    \n",
    "training_df = pd.DataFrame(data = training_epochs, columns = ['Epoch', 'Cost'])\n",
    "validation_df = pd.DataFrame(data = validation_epochs, columns = ['Epoch', 'Cost'])\n",
    "\n",
    "plt.plot(training_df['Epoch'], training_df['Cost'], linewidth = 1.0, color = 'red')\n",
    "plt.plot(validation_df['Epoch'], validation_df['Cost'], linewidth = 1.0, color = 'blue')\n",
    "\n",
    "plt.xlabel('Epochs')\n",
    "plt.ylabel('Cost')\n",
    "\n",
    "plt.title(\"Cost x Epochs\")\n",
    "plt.legend(['Cost Training', 'Cost Validation'])\n",
    "\n",
    "plt.show()\n",
    "\n",
    "print(\"Best Validation Epoch: \" + str(best_epoch))"
   ]
  },
  {
   "cell_type": "code",
   "execution_count": 43,
   "metadata": {},
   "outputs": [
    {
     "name": "stdout",
     "output_type": "stream",
     "text": [
      "Cross Validation Accuracies (Training):  [0.91823466 0.91882827 0.91946486 0.91667034 0.91824106]\n",
      "Cross Validation Mean (Training):  0.9182878373516378\n",
      "Mean Squared Error (Validation): 1325527.50\n",
      "Linear Regression Accuracy (Validation):  0.918002632515262\n"
     ]
    }
   ],
   "source": [
    "prediction_Y = best_model.predict(validation_X)\n",
    "\n",
    "accuracies = cross_val_score(estimator = best_model, X = train_cross_features, y = train_cross_targets, cv = 5)\n",
    "\n",
    "#print('Coefficients: \\n', best_model.coef_)\n",
    "#print('Intercept: \\n', best_model.intercept_)\n",
    "print(\"Cross Validation Accuracies (Training): \", accuracies)\n",
    "print(\"Cross Validation Mean (Training): \", accuracies.mean())\n",
    "\n",
    "print(\"Mean Squared Error (Validation): %.2f\" % mean_squared_error(validation_Y, prediction_Y))\n",
    "print('Linear Regression Accuracy (Validation): ', best_model.score(validation_X, validation_Y))"
   ]
  },
  {
   "cell_type": "code",
   "execution_count": 44,
   "metadata": {},
   "outputs": [
    {
     "name": "stdout",
     "output_type": "stream",
     "text": [
      "Mean Squared Error (Test): 1317457.14\n",
      "Linear Regression Accuracy (Test):  0.9170005619046967\n"
     ]
    }
   ],
   "source": [
    "test_prediction_Y = best_model.predict(test_X)\n",
    "\n",
    "print(\"Mean Squared Error (Test): %.2f\" % mean_squared_error(test_Y, test_prediction_Y))\n",
    "print('Linear Regression Accuracy (Test): ', best_model.score(test_X, test_Y))"
   ]
  },
  {
   "cell_type": "code",
   "execution_count": 45,
   "metadata": {},
   "outputs": [
    {
     "name": "stdout",
     "output_type": "stream",
     "text": [
      "Cross Validation Accuracies (Training):  [0.91960485 0.9205596  0.92072409 0.91852671 0.88545418]\n",
      "Cross Validation Mean (Training):  0.9129738830322838\n",
      "Mean Squared Error (Validation): 1856356.59\n",
      "Linear Regression Accuracy (Validation):  0.885165450403318\n"
     ]
    }
   ],
   "source": [
    "regressor = linear_model.LinearRegression(fit_intercept = True)\n",
    "\n",
    "regressor.fit(training_X, training_Y)\n",
    "\n",
    "prediction_Y = regressor.predict(validation_X)\n",
    "\n",
    "test_prediction_Y = regressor.predict(test_X)\n",
    "\n",
    "accuracies = cross_val_score(estimator = regressor, X = train_cross_features, y = train_cross_targets, cv = 5)\n",
    "\n",
    "#print('Coefficients: \\n', regressor.coef_)\n",
    "#print('Intercept: \\n', regressor.intercept_)\n",
    "print(\"Cross Validation Accuracies (Training): \", accuracies)\n",
    "print(\"Cross Validation Mean (Training): \", accuracies.mean())\n",
    "\n",
    "print(\"Mean Squared Error (Validation): %.2f\" % mean_squared_error(validation_Y, prediction_Y))\n",
    "print('Linear Regression Accuracy (Validation): ', regressor.score(validation_X, validation_Y))"
   ]
  },
  {
   "cell_type": "code",
   "execution_count": 46,
   "metadata": {},
   "outputs": [
    {
     "name": "stdout",
     "output_type": "stream",
     "text": [
      "Mean Squared Error (Test): 1558924.19\n",
      "Linear Regression Accuracy (Test):  0.901788203622255\n"
     ]
    }
   ],
   "source": [
    "print(\"Mean Squared Error (Test): %.2f\" % mean_squared_error(test_Y, test_prediction_Y))\n",
    "print('Linear Regression Accuracy (Test): ', regressor.score(test_X, test_Y))"
   ]
  },
  {
   "cell_type": "code",
   "execution_count": 47,
   "metadata": {},
   "outputs": [],
   "source": [
    "class LinearRegression:\n",
    "    \n",
    "    def __init__(self, fit_intercept = True):\n",
    "        \n",
    "        self.fit_intercept = fit_intercept\n",
    "        \n",
    "        self.coef_ = None\n",
    "        self.intercept_ = None\n",
    "    \n",
    "    def fit(self, X, y):\n",
    "        \n",
    "        X_b = X\n",
    "        \n",
    "        if (self.fit_intercept):\n",
    "            \n",
    "            X_b = np.insert(X, 0, 1, axis = 1)\n",
    "            \n",
    "            # Compute the (Moore-Penrose) pseudo-inverse of a matrix, which grants to compute even if matrix is not invertible\n",
    "            coefficients = np.linalg.pinv(X_b.T.dot(X_b)).dot(X_b.T).dot(y)\n",
    "        \n",
    "            self.intercept_ = coefficients[0]\n",
    "            self.coef_ = coefficients[1:]\n",
    "            \n",
    "        else:\n",
    "            \n",
    "            # Compute the (Moore-Penrose) pseudo-inverse of a matrix, which grants to compute even if matrix is not invertible\n",
    "            coefficients = np.linalg.pinv(X_b.T.dot(X_b)).dot(X_b.T).dot(y)\n",
    "            \n",
    "            self.intercept_ = 0.0\n",
    "            self.coef_ = coefficients\n",
    "            \n",
    "            \n",
    "    \n",
    "    def predict(self, X):\n",
    "        \n",
    "        outputs = np.array([])\n",
    "        \n",
    "        for inputs in X:\n",
    "            \n",
    "            output = 0\n",
    "            \n",
    "            output = np.dot(self.coef_, inputs) + self.intercept_\n",
    "                \n",
    "            outputs = np.append(outputs, [output])\n",
    "        \n",
    "        return outputs\n",
    "        \n",
    "    def score(self, X, y):\n",
    "        \n",
    "        predicted_y = self.predict(X)\n",
    "        \n",
    "        u = ((y - predicted_y) ** 2).sum() \n",
    "        v = ((y - y.mean()) ** 2).sum()\n",
    "        \n",
    "        return (1 - u/v)\n",
    "        \n",
    "    def get_params(self, deep = True):\n",
    "        \n",
    "        dictionary = {\n",
    "            'fit_intercept': self.fit_intercept\n",
    "        }\n",
    "        \n",
    "        return dictionary"
   ]
  },
  {
   "cell_type": "code",
   "execution_count": 48,
   "metadata": {},
   "outputs": [
    {
     "name": "stdout",
     "output_type": "stream",
     "text": [
      "Cross Validation Accuracies (Training):  [0.91960485 0.92056477 0.92073439 0.91852463 0.88547353]\n",
      "Cross Validation Mean (Training):  0.9129804310455081\n",
      "Mean Squared Error (Validation): 1856356.59\n",
      "Linear Regression Accuracy (Validation):  0.8854735274214901\n"
     ]
    }
   ],
   "source": [
    "regressor = LinearRegression(fit_intercept = True)\n",
    "\n",
    "regressor.fit(training_X, training_Y)\n",
    "\n",
    "test_prediction_Y = regressor.predict(test_X)\n",
    "\n",
    "accuracies = cross_val_score(estimator = regressor, X = train_cross_features, y = train_cross_targets, cv = 5)\n",
    "\n",
    "#print('Coefficients: \\n', regressor.coef_)\n",
    "#print('Intercept: \\n', regressor.intercept_)\n",
    "print(\"Cross Validation Accuracies (Training): \", accuracies)\n",
    "print(\"Cross Validation Mean (Training): \", accuracies.mean())\n",
    "\n",
    "print(\"Mean Squared Error (Validation): %.2f\" % mean_squared_error(validation_Y, prediction_Y))\n",
    "print('Linear Regression Accuracy (Validation): ', regressor.score(validation_X, validation_Y))"
   ]
  },
  {
   "cell_type": "code",
   "execution_count": 49,
   "metadata": {},
   "outputs": [
    {
     "name": "stdout",
     "output_type": "stream",
     "text": [
      "Mean Squared Error (Test): 1541584.29\n",
      "Linear Regression Accuracy (Test):  0.902880612777243\n"
     ]
    }
   ],
   "source": [
    "print(\"Mean Squared Error (Test): %.2f\" % mean_squared_error(test_Y, test_prediction_Y))\n",
    "print('Linear Regression Accuracy (Test): ', regressor.score(test_X, test_Y))"
   ]
  },
  {
   "cell_type": "code",
   "execution_count": null,
   "metadata": {
    "collapsed": true
   },
   "outputs": [],
   "source": []
  }
 ],
 "metadata": {
  "kernelspec": {
   "display_name": "Python 3",
   "language": "python",
   "name": "python3"
  },
  "language_info": {
   "codemirror_mode": {
    "name": "ipython",
    "version": 3
   },
   "file_extension": ".py",
   "mimetype": "text/x-python",
   "name": "python",
   "nbconvert_exporter": "python",
   "pygments_lexer": "ipython3",
   "version": "3.5.5"
  }
 },
 "nbformat": 4,
 "nbformat_minor": 2
}

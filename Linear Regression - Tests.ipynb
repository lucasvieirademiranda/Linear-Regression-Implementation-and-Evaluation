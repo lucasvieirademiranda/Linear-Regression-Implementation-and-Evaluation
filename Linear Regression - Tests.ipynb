{
 "cells": [
  {
   "cell_type": "code",
   "execution_count": 1,
   "metadata": {},
   "outputs": [],
   "source": [
    "import numpy as np\n",
    "import pandas as pd\n",
    "import matplotlib.pyplot as plt\n",
    "\n",
    "from copy import deepcopy\n",
    "from sklearn import linear_model\n",
    "from sklearn.metrics import mean_squared_error\n",
    "from sklearn.model_selection import cross_val_score"
   ]
  },
  {
   "cell_type": "code",
   "execution_count": 2,
   "metadata": {},
   "outputs": [
    {
     "data": {
      "image/png": "[encoded data removed]",
      "text/plain": [
       "<Figure size 432x288 with 1 Axes>"
      ]
     },
     "metadata": {},
     "output_type": "display_data"
    }
   ],
   "source": [
    "total_data = 100\n",
    "\n",
    "x = np.arange(total_data)\n",
    "\n",
    "np.random.shuffle(x)\n",
    "\n",
    "delta = np.random.uniform(-10, 10, size = (total_data,))\n",
    "\n",
    "y = x + delta\n",
    "\n",
    "plt.scatter(x, y, color = 'gray')\n",
    "\n",
    "plt.xticks()\n",
    "plt.yticks()\n",
    "\n",
    "plt.show()"
   ]
  },
  {
   "cell_type": "code",
   "execution_count": 3,
   "metadata": {},
   "outputs": [],
   "source": [
    "training_size = 0.8\n",
    "\n",
    "total = x.shape[0]\n",
    "\n",
    "training_size = round(total * training_size)\n",
    "validation_size = total - training_size\n",
    "\n",
    "training_x = x[:training_size]\n",
    "validation_x = x[training_size:]\n",
    "\n",
    "training_X = training_x.reshape((training_size, 1))\n",
    "validation_X = validation_x.reshape((validation_size, 1))\n",
    "\n",
    "training_y = y[:training_size]\n",
    "validation_y = y[training_size:]"
   ]
  },
  {
   "cell_type": "code",
   "execution_count": 4,
   "metadata": {},
   "outputs": [
    {
     "data": {
      "image/png": "[encoded data removed]",
      "text/plain": [
       "<Figure size 432x288 with 1 Axes>"
      ]
     },
     "metadata": {},
     "output_type": "display_data"
    },
    {
     "name": "stdout",
     "output_type": "stream",
     "text": [
      "Best Epoch: [1, 33.35697043732132]\n",
      "Cross Validation Accuracies:  [0.94073719 0.9736274  0.96009416 0.95082557 0.96976748]\n",
      "Cross Validation Mean Accuracy:  0.9590103604579208\n",
      "Mean Squared Error: 34.154187131975981\n",
      "Linear Regression Accuracy:  0.9478928131005021\n"
     ]
    },
    {
     "name": "stderr",
     "output_type": "stream",
     "text": [
      "[Parallel(n_jobs=1)]: Done   5 out of   5 | elapsed:    0.0s finished\n"
     ]
    }
   ],
   "source": [
    "total_epoch = 100\n",
    "\n",
    "epochs = []\n",
    "\n",
    "r = linear_model.SGDRegressor(loss = \"squared_loss\",\n",
    "                              shuffle = False,\n",
    "                              max_iter = 100, \n",
    "                              fit_intercept = True,\n",
    "                              learning_rate = \"constant\",\n",
    "                              penalty = None,\n",
    "                              eta0 = 0.00001)\n",
    "\n",
    "select = float('inf')\n",
    "best_epoch = None\n",
    "best_model = None\n",
    "\n",
    "for epoch in range(total_epoch):\n",
    "\n",
    "    r.partial_fit(training_X, training_y)\n",
    "    prediction_y = r.predict(validation_X)\n",
    "    mse = mean_squared_error(validation_y, prediction_y)\n",
    "    \n",
    "    if(mse < select):\n",
    "        \n",
    "        select = mse\n",
    "        best_epoch = [epoch, mse]\n",
    "        best_model = deepcopy(r)\n",
    "    \n",
    "    epochs.append([epoch, mse])\n",
    "\n",
    "epoch_df = pd.DataFrame(data = epochs, columns = ['Epoch', 'Cost'])\n",
    "\n",
    "plt.plot(epoch_df['Epoch'], epoch_df['Cost'], linewidth = 1.0, color = 'blue')\n",
    "\n",
    "plt.xlabel('Epochs')\n",
    "plt.ylabel('Cost')\n",
    "\n",
    "plt.title(\"Implementação Scikit-Learn\")\n",
    "plt.legend()\n",
    "\n",
    "plt.show()\n",
    "\n",
    "print(\"Best Epoch: \" + str(best_epoch))\n",
    "\n",
    "predict_y = best_model.predict(validation_X)\n",
    "\n",
    "accuracies = cross_val_score(estimator = best_model, X = training_X, y = training_y, cv = 5,verbose = 1)\n",
    "\n",
    "print(\"Cross Validation Accuracies: \", accuracies)\n",
    "print(\"Cross Validation Mean Accuracy: \", accuracies.mean())\n",
    "\n",
    "print(\"Mean Squared Error: %.15f\" % mean_squared_error(validation_y, prediction_y))\n",
    "print('Linear Regression Accuracy: ', r.score(validation_X, validation_y))"
   ]
  },
  {
   "cell_type": "code",
   "execution_count": 5,
   "metadata": {},
   "outputs": [],
   "source": [
    "class SGDRegressor:\n",
    "    \n",
    "    def __init__(self, max_iter = 1000, fit_intercept = False, eta0 = 0.01):\n",
    "        \n",
    "        self.max_iter = max_iter\n",
    "        self.fit_intercept = fit_intercept\n",
    "        self.eta0 = eta0\n",
    "        \n",
    "        self.coef_ = np.array([]) \n",
    "        self.intercept_ = np.array([0])\n",
    "        \n",
    "    def fit(self, X, y):\n",
    "        \n",
    "        self.intercept_ = np.zeros(1)\n",
    "        self.coef_ = np.zeros(X.shape[1])\n",
    "            \n",
    "        for iteration in range(self.max_iter):\n",
    "            \n",
    "            for inputs, target in zip(X, y):\n",
    "\n",
    "                if (self.fit_intercept):\n",
    "\n",
    "                    output = np.dot(self.coef_, inputs) + self.intercept_\n",
    "\n",
    "                    self.intercept_ = self.intercept_ - (self.eta0 * (output - target))\n",
    "                    self.coef_ = self.coef_ - (self.eta0 * (output - target) * inputs)\n",
    "\n",
    "                else:\n",
    "\n",
    "                    outputs = np.dot(self.coef_, inputs) + self.intercept_\n",
    "\n",
    "                    self.coef_ = self.coef_ - (self.eta0 * (outputs - targets) * inputs)\n",
    "    \n",
    "    \n",
    "    def partial_fit(self, X, y):\n",
    "        \n",
    "        if (not self.intercept_.any()):\n",
    "            self.intercept_ = np.zeros(1)\n",
    "        \n",
    "        if (not self.coef_.any()):\n",
    "            self.coef_ = np.zeros(X.shape[1])\n",
    "                \n",
    "        for inputs, target in zip(X, y):\n",
    "            \n",
    "            if (self.fit_intercept):\n",
    "            \n",
    "                output = np.dot(self.coef_, inputs) + self.intercept_\n",
    "                \n",
    "                self.intercept_ = self.intercept_ - (self.eta0 * (output - target))\n",
    "                \n",
    "                self.coef_ = self.coef_ - (self.eta0 * (output - target) * inputs)\n",
    "                \n",
    "            else:\n",
    "                \n",
    "                output = np.dot(self.coef_, inputs) + self.intercept_\n",
    "                \n",
    "                self.coef_ = self.coef_ - (self.eta0 * (output - target) * inputs)\n",
    "    \n",
    "                \n",
    "    def predict(self, X):\n",
    "        \n",
    "        outputs = np.array([])\n",
    "        \n",
    "        for inputs in X:\n",
    "            \n",
    "            output = 0\n",
    "            \n",
    "            if (self.fit_intercept):\n",
    "                \n",
    "                output = np.dot(self.coef_, inputs) + self.intercept_\n",
    "                \n",
    "            else:\n",
    "                \n",
    "                output = np.dot(self.coef_, inputs)\n",
    "            \n",
    "            outputs = np.append(outputs, [output])\n",
    "        \n",
    "        return outputs\n",
    "    \n",
    "    def score(self, X, y):\n",
    "        \n",
    "        predicted_y = self.predict(X)\n",
    "        \n",
    "        u = ((y - predicted_y) ** 2).sum() \n",
    "        v = ((y - y.mean()) ** 2).sum()\n",
    "        \n",
    "        return (1 - u/v)\n",
    "    \n",
    "    def get_params(self, deep = True):\n",
    "        \n",
    "        dictionary = {\n",
    "            'eta0': self.eta0,\n",
    "            'fit_intercept': self.fit_intercept,\n",
    "            'max_iter': self.max_iter,\n",
    "        }\n",
    "        \n",
    "        return dictionary"
   ]
  },
  {
   "cell_type": "code",
   "execution_count": 6,
   "metadata": {},
   "outputs": [
    {
     "data": {
      "image/png": "[encoded data removed]",
      "text/plain": [
       "<Figure size 432x288 with 1 Axes>"
      ]
     },
     "metadata": {},
     "output_type": "display_data"
    },
    {
     "name": "stdout",
     "output_type": "stream",
     "text": [
      "Best Epoch: [1, 33.35697043732132]\n",
      "Cross Validation Accuracies:  [0.94073719 0.9736274  0.96009416 0.95082557 0.96976748]\n",
      "Cross Validation Mean Accuracy:  0.9590103604579208\n",
      "Mean Squared Error: 34.154187131975981\n",
      "Linear Regression Accuracy:  0.9478928131005021\n"
     ]
    }
   ],
   "source": [
    "total_epoch = 100\n",
    "\n",
    "epochs = []\n",
    "\n",
    "r = SGDRegressor(max_iter = 100, \n",
    "                 fit_intercept = True, \n",
    "                 eta0 = 0.00001)\n",
    "\n",
    "select = float('inf')\n",
    "best_epoch = None\n",
    "best_model = None\n",
    "\n",
    "for epoch in range(total_epoch):\n",
    "\n",
    "    r.partial_fit(training_X, training_y)\n",
    "    prediction_y = r.predict(validation_X)\n",
    "    mse = mean_squared_error(validation_y, prediction_y)\n",
    "    \n",
    "    if(mse < select):\n",
    "        \n",
    "        select = mse\n",
    "        best_epoch = [epoch, mse]\n",
    "        best_model = deepcopy(r)\n",
    "    \n",
    "    epochs.append([epoch, mse])\n",
    "\n",
    "epoch_df = pd.DataFrame(data = epochs, columns = ['Epoch', 'Cost'])\n",
    "\n",
    "plt.plot(epoch_df['Epoch'], epoch_df['Cost'], linewidth = 1.0, color = 'blue')\n",
    "\n",
    "plt.xlabel('Epochs')\n",
    "plt.ylabel('Cost')\n",
    "\n",
    "plt.title(\"Implementação Manual\")\n",
    "plt.legend()\n",
    "\n",
    "plt.show()\n",
    "\n",
    "print(\"Best Epoch: \" + str(best_epoch))\n",
    "\n",
    "predict_y = best_model.predict(validation_X)\n",
    "\n",
    "accuracies = cross_val_score(estimator = best_model, X = training_X, y = training_y, cv = 5)\n",
    "\n",
    "print(\"Cross Validation Accuracies: \", accuracies)\n",
    "print(\"Cross Validation Mean Accuracy: \", accuracies.mean())\n",
    "\n",
    "print(\"Mean Squared Error: %.15f\" % mean_squared_error(validation_y, prediction_y))\n",
    "print('Linear Regression Accuracy: ', r.score(validation_X, validation_y))"
   ]
  },
  {
   "cell_type": "code",
   "execution_count": 7,
   "metadata": {},
   "outputs": [
    {
     "data": {
      "image/png": "[encoded data removed]",
      "text/plain": [
       "<Figure size 432x288 with 1 Axes>"
      ]
     },
     "metadata": {},
     "output_type": "display_data"
    },
    {
     "name": "stdout",
     "output_type": "stream",
     "text": [
      "Cross Validation Accuracies:  [0.94100064 0.97365287 0.96007662 0.95191786 0.97083026]\n",
      "Cross Validation Mean Accuracy:  0.9594956504686275\n",
      "Mean Squared Error: 33.318089380868557\n",
      "Linear Regression Accuracy:  0.9491684019943281\n"
     ]
    },
    {
     "name": "stderr",
     "output_type": "stream",
     "text": [
      "[Parallel(n_jobs=1)]: Done   5 out of   5 | elapsed:    0.0s finished\n"
     ]
    }
   ],
   "source": [
    "r = linear_model.LinearRegression(fit_intercept = True)\n",
    "\n",
    "r.fit(training_X, training_y)\n",
    "\n",
    "prediction_y = r.predict(validation_X)\n",
    "\n",
    "plt.scatter(training_X[:, 0:1], training_y, color = 'grey')\n",
    "plt.scatter(validation_X[:, 0:1], validation_y, color = 'black')\n",
    "plt.scatter(validation_X[:, 0:1], prediction_y, color = 'blue')\n",
    "\n",
    "plt.xticks()\n",
    "plt.yticks()\n",
    "\n",
    "plt.title(\"Implementação Scikit-learn\")\n",
    "\n",
    "plt.show()\n",
    "\n",
    "accuracies = cross_val_score(estimator = r, X = training_X, y = training_y, cv = 5,verbose = 1)\n",
    "\n",
    "#print(\"Coefficients: \", r.coef_)\n",
    "#print(\"Intecepts: \", r.intercept_)\n",
    "print(\"Cross Validation Accuracies: \", accuracies)\n",
    "print(\"Cross Validation Mean Accuracy: \", accuracies.mean())\n",
    "\n",
    "print(\"Mean Squared Error: %.15f\" % mean_squared_error(validation_y, prediction_y))\n",
    "print('Linear Regression Accuracy: ', r.score(validation_X, validation_y))"
   ]
  },
  {
   "cell_type": "code",
   "execution_count": 8,
   "metadata": {},
   "outputs": [],
   "source": [
    "class LinearRegression:\n",
    "    \n",
    "    def __init__(self, fit_intercept = True):\n",
    "        \n",
    "        self.fit_intercept = fit_intercept\n",
    "        \n",
    "        self.coef_ = None\n",
    "        self.intercept_ = None\n",
    "    \n",
    "    def fit(self, X, y):\n",
    "        \n",
    "        X_b = X\n",
    "        \n",
    "        if (self.fit_intercept):\n",
    "            \n",
    "            X_b = np.insert(X, 0, 1, axis = 1)\n",
    "            \n",
    "            coefficients = np.linalg.pinv(X_b.T.dot(X_b)).dot(X_b.T).dot(y)\n",
    "        \n",
    "            self.intercept_ = coefficients[0]\n",
    "            self.coef_ = coefficients[1:]\n",
    "            \n",
    "        else:\n",
    "            \n",
    "            coefficients = np.linalg.pinv(X_b.T.dot(X_b)).dot(X_b.T).dot(y)\n",
    "            \n",
    "            self.intercept_ = 0.0\n",
    "            self.coef_ = coefficients\n",
    "            \n",
    "            \n",
    "    \n",
    "    def predict(self, X):\n",
    "        \n",
    "        outputs = np.array([])\n",
    "        \n",
    "        for inputs in X:\n",
    "            \n",
    "            output = 0\n",
    "            \n",
    "            output = np.dot(self.coef_, inputs) + self.intercept_\n",
    "                \n",
    "            outputs = np.append(outputs, [output])\n",
    "        \n",
    "        return outputs\n",
    "        \n",
    "    def score(self, X, y):\n",
    "        \n",
    "        predicted_y = self.predict(X)\n",
    "        \n",
    "        u = ((y - predicted_y) ** 2).sum() \n",
    "        v = ((y - y.mean()) ** 2).sum()\n",
    "        \n",
    "        return (1 - u/v)\n",
    "        \n",
    "    def get_params(self, deep = True):\n",
    "        \n",
    "        dictionary = {\n",
    "            'fit_intercept': self.fit_intercept\n",
    "        }\n",
    "        \n",
    "        return dictionary"
   ]
  },
  {
   "cell_type": "code",
   "execution_count": 9,
   "metadata": {},
   "outputs": [
    {
     "data": {
      "image/png": "[encoded data removed]",
      "text/plain": [
       "<Figure size 432x288 with 1 Axes>"
      ]
     },
     "metadata": {},
     "output_type": "display_data"
    },
    {
     "name": "stdout",
     "output_type": "stream",
     "text": [
      "Cross Validation Accuracies:  [0.94100064 0.97365287 0.96007662 0.95191786 0.97083026]\n",
      "Cross Validation Mean Accuracy:  0.9594956504686266\n",
      "Mean Squared Error: 33.318089380868670\n",
      "Linear Regression Accuracy:  0.949168401994328\n"
     ]
    },
    {
     "name": "stderr",
     "output_type": "stream",
     "text": [
      "[Parallel(n_jobs=1)]: Done   5 out of   5 | elapsed:    0.0s finished\n"
     ]
    }
   ],
   "source": [
    "r = LinearRegression(fit_intercept = True)\n",
    "\n",
    "r.fit(training_X, training_y)\n",
    "\n",
    "prediction_y = r.predict(validation_X)\n",
    "\n",
    "plt.scatter(training_X[:, 0:1], training_y, color = 'grey')\n",
    "plt.scatter(validation_X[:, 0:1], validation_y, color = 'black')\n",
    "plt.scatter(validation_X[:, 0:1], prediction_y, color = 'blue')\n",
    "\n",
    "plt.xticks()\n",
    "plt.yticks()\n",
    "\n",
    "plt.title(\"Implementação Própria\")\n",
    "\n",
    "plt.show()\n",
    "\n",
    "accuracies = cross_val_score(estimator = r, X = training_X, y = training_y, cv = 5,verbose = 1)\n",
    "\n",
    "#print(\"Coefficients: \", r.coef_)\n",
    "#print(\"Intecepts: \", r.intercept_)\n",
    "print(\"Cross Validation Accuracies: \", accuracies)\n",
    "print(\"Cross Validation Mean Accuracy: \", accuracies.mean())\n",
    "\n",
    "print(\"Mean Squared Error: %.15f\" % mean_squared_error(validation_y, prediction_y))\n",
    "print('Linear Regression Accuracy: ', r.score(validation_X, validation_y))"
   ]
  },
  {
   "cell_type": "code",
   "execution_count": null,
   "metadata": {},
   "outputs": [],
   "source": []
  },
  {
   "cell_type": "code",
   "execution_count": null,
   "metadata": {},
   "outputs": [],
   "source": []
  }
 ],
 "metadata": {
  "kernelspec": {
   "display_name": "Python 3",
   "language": "python",
   "name": "python3"
  },
  "language_info": {
   "codemirror_mode": {
    "name": "ipython",
    "version": 3
   },
   "file_extension": ".py",
   "mimetype": "text/x-python",
   "name": "python",
   "nbconvert_exporter": "python",
   "pygments_lexer": "ipython3",
   "version": "3.5.5"
  }
 },
 "nbformat": 4,
 "nbformat_minor": 2
}
